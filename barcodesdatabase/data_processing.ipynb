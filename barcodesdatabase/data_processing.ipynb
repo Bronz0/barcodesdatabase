{
 "cells": [
  {
   "cell_type": "code",
   "execution_count": 24,
   "id": "f0669859",
   "metadata": {},
   "outputs": [],
   "source": [
    "import pandas as pd"
   ]
  },
  {
   "cell_type": "code",
   "execution_count": 25,
   "id": "9a6cecfa",
   "metadata": {},
   "outputs": [],
   "source": [
    "df = pd.read_csv('barcodes.csv')"
   ]
  },
  {
   "cell_type": "code",
   "execution_count": 26,
   "id": "20b638f8",
   "metadata": {},
   "outputs": [
    {
     "name": "stdout",
     "output_type": "stream",
     "text": [
      "<class 'pandas.core.frame.DataFrame'>\n",
      "RangeIndex: 3490 entries, 0 to 3489\n",
      "Data columns (total 11 columns):\n",
      " #   Column                     Non-Null Count  Dtype  \n",
      "---  ------                     --------------  -----  \n",
      " 0   barcode                    3490 non-null   float64\n",
      " 1   title                      3490 non-null   object \n",
      " 2   subtitle                   3293 non-null   object \n",
      " 3   description                3405 non-null   object \n",
      " 4   manufacturer_name          3490 non-null   object \n",
      " 5   manufacturer_phone_adress  3419 non-null   object \n",
      " 6   manufacturer_email         3490 non-null   object \n",
      " 7   size_color                 233 non-null    object \n",
      " 8   image                      0 non-null      float64\n",
      " 9   price                      136 non-null    object \n",
      " 10  currency                   3363 non-null   object \n",
      "dtypes: float64(2), object(9)\n",
      "memory usage: 300.0+ KB\n"
     ]
    }
   ],
   "source": [
    "df.info()"
   ]
  },
  {
   "cell_type": "code",
   "execution_count": 27,
   "id": "36d5df66",
   "metadata": {},
   "outputs": [
    {
     "data": {
      "text/html": [
       "<div>\n",
       "<style scoped>\n",
       "    .dataframe tbody tr th:only-of-type {\n",
       "        vertical-align: middle;\n",
       "    }\n",
       "\n",
       "    .dataframe tbody tr th {\n",
       "        vertical-align: top;\n",
       "    }\n",
       "\n",
       "    .dataframe thead th {\n",
       "        text-align: right;\n",
       "    }\n",
       "</style>\n",
       "<table border=\"1\" class=\"dataframe\">\n",
       "  <thead>\n",
       "    <tr style=\"text-align: right;\">\n",
       "      <th></th>\n",
       "      <th>barcode</th>\n",
       "      <th>title</th>\n",
       "      <th>subtitle</th>\n",
       "      <th>description</th>\n",
       "      <th>manufacturer_name</th>\n",
       "      <th>manufacturer_phone_adress</th>\n",
       "      <th>manufacturer_email</th>\n",
       "      <th>size_color</th>\n",
       "      <th>image</th>\n",
       "      <th>price</th>\n",
       "      <th>currency</th>\n",
       "    </tr>\n",
       "  </thead>\n",
       "  <tbody>\n",
       "    <tr>\n",
       "      <th>2273</th>\n",
       "      <td>7.105354e+11</td>\n",
       "      <td>Détergents</td>\n",
       "      <td>Détergents</td>\n",
       "      <td>Détergents et produits d’entretient</td>\n",
       "      <td>MAXI PROPRE</td>\n",
       "      <td>Tel : 00213 550350Adresse : Boumia, R N°05, Lo...</td>\n",
       "      <td>walidazrarak@gmail.com</td>\n",
       "      <td>NaN</td>\n",
       "      <td>NaN</td>\n",
       "      <td>NaN</td>\n",
       "      <td>DZD</td>\n",
       "    </tr>\n",
       "    <tr>\n",
       "      <th>1247</th>\n",
       "      <td>7.451784e+11</td>\n",
       "      <td>NETTOYANT SOL PARFUME</td>\n",
       "      <td>SANIBON</td>\n",
       "      <td>MIDILA CLEAN est un nettoyant sol disponible e...</td>\n",
       "      <td>MIDILA CLEAN</td>\n",
       "      <td>+213781536792</td>\n",
       "      <td>midilaclean@gmail.com</td>\n",
       "      <td>NaN</td>\n",
       "      <td>NaN</td>\n",
       "      <td>NaN</td>\n",
       "      <td>DZD</td>\n",
       "    </tr>\n",
       "    <tr>\n",
       "      <th>930</th>\n",
       "      <td>7.056328e+11</td>\n",
       "      <td>OLIVES and vegetables</td>\n",
       "      <td>OLIVES and vegetables</td>\n",
       "      <td>OLIVES and vegetables</td>\n",
       "      <td>SARL BHS</td>\n",
       "      <td>Phone :00213 45 62 04 77- 78 / Adresse: 19, RU...</td>\n",
       "      <td>cdjebbour@yahoo.fr</td>\n",
       "      <td>NaN</td>\n",
       "      <td>NaN</td>\n",
       "      <td>NaN</td>\n",
       "      <td>DZD</td>\n",
       "    </tr>\n",
       "    <tr>\n",
       "      <th>1783</th>\n",
       "      <td>7.451101e+11</td>\n",
       "      <td>EXCELENTE FLOUR FOR ALL USES</td>\n",
       "      <td>EXCELENTE FLOUR FOR ALL USES</td>\n",
       "      <td>EXCELENTE FLOUR FOR ALL USES</td>\n",
       "      <td>BESTAMI SNC / GROUPE GUERIOUNE</td>\n",
       "      <td>Phone : 00213 660 93 37 17 / Adresse : Codyet ...</td>\n",
       "      <td>besmati04@gmail.com</td>\n",
       "      <td>NaN</td>\n",
       "      <td>NaN</td>\n",
       "      <td>NaN</td>\n",
       "      <td>DZD</td>\n",
       "    </tr>\n",
       "    <tr>\n",
       "      <th>632</th>\n",
       "      <td>7.105357e+11</td>\n",
       "      <td>Légumes secs</td>\n",
       "      <td>Légumes secs</td>\n",
       "      <td>Légumes secs</td>\n",
       "      <td>HISTER</td>\n",
       "      <td>PHONE : 00213 550 82 58 69 / Adresse : EL ZABO...</td>\n",
       "      <td>zina_boukhari@hotmail.fr</td>\n",
       "      <td>NaN</td>\n",
       "      <td>NaN</td>\n",
       "      <td>NaN</td>\n",
       "      <td>DZD</td>\n",
       "    </tr>\n",
       "  </tbody>\n",
       "</table>\n",
       "</div>"
      ],
      "text/plain": [
       "           barcode                         title  \\\n",
       "2273  7.105354e+11                    Détergents   \n",
       "1247  7.451784e+11         NETTOYANT SOL PARFUME   \n",
       "930   7.056328e+11         OLIVES and vegetables   \n",
       "1783  7.451101e+11  EXCELENTE FLOUR FOR ALL USES   \n",
       "632   7.105357e+11                 Légumes secs    \n",
       "\n",
       "                          subtitle  \\\n",
       "2273                    Détergents   \n",
       "1247                       SANIBON   \n",
       "930          OLIVES and vegetables   \n",
       "1783  EXCELENTE FLOUR FOR ALL USES   \n",
       "632                  Légumes secs    \n",
       "\n",
       "                                            description  \\\n",
       "2273               Détergents et produits d’entretient    \n",
       "1247  MIDILA CLEAN est un nettoyant sol disponible e...   \n",
       "930                               OLIVES and vegetables   \n",
       "1783                       EXCELENTE FLOUR FOR ALL USES   \n",
       "632                                       Légumes secs    \n",
       "\n",
       "                   manufacturer_name  \\\n",
       "2273                     MAXI PROPRE   \n",
       "1247                    MIDILA CLEAN   \n",
       "930                        SARL BHS    \n",
       "1783  BESTAMI SNC / GROUPE GUERIOUNE   \n",
       "632                           HISTER   \n",
       "\n",
       "                              manufacturer_phone_adress  \\\n",
       "2273  Tel : 00213 550350Adresse : Boumia, R N°05, Lo...   \n",
       "1247                                      +213781536792   \n",
       "930   Phone :00213 45 62 04 77- 78 / Adresse: 19, RU...   \n",
       "1783  Phone : 00213 660 93 37 17 / Adresse : Codyet ...   \n",
       "632   PHONE : 00213 550 82 58 69 / Adresse : EL ZABO...   \n",
       "\n",
       "            manufacturer_email size_color  image price currency  \n",
       "2273    walidazrarak@gmail.com        NaN    NaN   NaN      DZD  \n",
       "1247     midilaclean@gmail.com        NaN    NaN   NaN      DZD  \n",
       "930         cdjebbour@yahoo.fr        NaN    NaN   NaN      DZD  \n",
       "1783       besmati04@gmail.com        NaN    NaN   NaN      DZD  \n",
       "632   zina_boukhari@hotmail.fr        NaN    NaN   NaN      DZD  "
      ]
     },
     "execution_count": 27,
     "metadata": {},
     "output_type": "execute_result"
    }
   ],
   "source": [
    "df.sample(5)"
   ]
  },
  {
   "cell_type": "code",
   "execution_count": 23,
   "id": "e9fd09fb",
   "metadata": {},
   "outputs": [],
   "source": [
    "df.to_excel('barcodes.xlsx', index=False)"
   ]
  },
  {
   "cell_type": "code",
   "execution_count": null,
   "id": "7e10b595",
   "metadata": {},
   "outputs": [],
   "source": []
  }
 ],
 "metadata": {
  "kernelspec": {
   "display_name": "Python 3",
   "language": "python",
   "name": "python3"
  },
  "language_info": {
   "codemirror_mode": {
    "name": "ipython",
    "version": 3
   },
   "file_extension": ".py",
   "mimetype": "text/x-python",
   "name": "python",
   "nbconvert_exporter": "python",
   "pygments_lexer": "ipython3",
   "version": "3.9.5"
  },
  "toc": {
   "base_numbering": 1,
   "nav_menu": {},
   "number_sections": true,
   "sideBar": true,
   "skip_h1_title": false,
   "title_cell": "Table of Contents",
   "title_sidebar": "Contents",
   "toc_cell": false,
   "toc_position": {},
   "toc_section_display": true,
   "toc_window_display": false
  },
  "varInspector": {
   "cols": {
    "lenName": 16,
    "lenType": 16,
    "lenVar": 40
   },
   "kernels_config": {
    "python": {
     "delete_cmd_postfix": "",
     "delete_cmd_prefix": "del ",
     "library": "var_list.py",
     "varRefreshCmd": "print(var_dic_list())"
    },
    "r": {
     "delete_cmd_postfix": ") ",
     "delete_cmd_prefix": "rm(",
     "library": "var_list.r",
     "varRefreshCmd": "cat(var_dic_list()) "
    }
   },
   "types_to_exclude": [
    "module",
    "function",
    "builtin_function_or_method",
    "instance",
    "_Feature"
   ],
   "window_display": false
  }
 },
 "nbformat": 4,
 "nbformat_minor": 5
}
